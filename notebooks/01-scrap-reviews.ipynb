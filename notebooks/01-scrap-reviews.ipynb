{
 "cells": [
  {
   "cell_type": "code",
   "execution_count": 1,
   "id": "e5261e11",
   "metadata": {},
   "outputs": [],
   "source": [
    "from google_play_scraper import Sort, reviews_all\n",
    "import pandas as pd\n",
    "import numpy as np\n",
    "import datetime"
   ]
  },
  {
   "cell_type": "code",
   "execution_count": 2,
   "id": "8fc8b594",
   "metadata": {},
   "outputs": [],
   "source": [
    "reviews = reviews_all(\n",
    "    'com.alltrails.alltrails',\n",
    "    lang='en',\n",
    "    sort=Sort.NEWEST,\n",
    ")"
   ]
  },
  {
   "cell_type": "code",
   "execution_count": 3,
   "id": "b12eb1a8",
   "metadata": {},
   "outputs": [],
   "source": [
    "df = pd.DataFrame(reviews)\n",
    "df.to_csv(f\"../data/raw_reviews.csv\", index=False)"
   ]
  }
 ],
 "metadata": {
  "kernelspec": {
   "display_name": "Python 3",
   "language": "python",
   "name": "python3"
  },
  "language_info": {
   "codemirror_mode": {
    "name": "ipython",
    "version": 3
   },
   "file_extension": ".py",
   "mimetype": "text/x-python",
   "name": "python",
   "nbconvert_exporter": "python",
   "pygments_lexer": "ipython3",
   "version": "3.11.0"
  }
 },
 "nbformat": 4,
 "nbformat_minor": 5
}
